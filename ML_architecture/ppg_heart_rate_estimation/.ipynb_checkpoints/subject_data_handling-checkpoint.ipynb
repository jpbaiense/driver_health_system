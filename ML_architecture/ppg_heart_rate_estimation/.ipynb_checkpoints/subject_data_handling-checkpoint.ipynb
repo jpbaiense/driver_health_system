{
 "cells": [
  {
   "cell_type": "markdown",
   "id": "f501cd5c-f92b-4adb-9a85-87b457a93a56",
   "metadata": {},
   "source": [
    "### Subject data handling"
   ]
  },
  {
   "cell_type": "code",
   "execution_count": 139,
   "id": "f9c2da52-80fe-4fbb-8d2c-e3fb2c33d223",
   "metadata": {
    "tags": []
   },
   "outputs": [],
   "source": [
    "# Import pickle and open Subject 1 file\n",
    "# using 'latin1' encoding to pickled objects\n",
    "import pickle\n",
    "import pandas as pd\n",
    "import numpy as np\n",
    "\n",
    "with open('../ppg_heart_rate_estimation/Subjects/S4/S4.pkl', 'rb') as f:\n",
    "    raw_data = pickle.load(f, encoding='latin1')"
   ]
  },
  {
   "cell_type": "code",
   "execution_count": 140,
   "id": "38372b18-6f1e-43eb-876f-1c78d7bd52c6",
   "metadata": {
    "tags": []
   },
   "outputs": [],
   "source": [
    "temp_raw_data = raw_data['signal']['wrist']['TEMP']\n",
    "acc_raw_data = raw_data['signal']['wrist']['ACC']\n",
    "ppg_raw_data = raw_data['signal']['wrist']['BVP']\n",
    "label_raw_data = raw_data['label']"
   ]
  },
  {
   "cell_type": "code",
   "execution_count": 141,
   "id": "74ca2d10-f50f-4fb3-a0df-b0ee07501cdb",
   "metadata": {
    "tags": []
   },
   "outputs": [
    {
     "data": {
      "text/plain": [
       "(36600, 292800, 585600, 4572)"
      ]
     },
     "execution_count": 141,
     "metadata": {},
     "output_type": "execute_result"
    }
   ],
   "source": [
    "temp_data_len = len(temp_raw_data)\n",
    "acc_data_len = len(acc_raw_data)\n",
    "ppg_data_len = len(ppg_raw_data)\n",
    "label_data_len = len(label_raw_data)\n",
    "temp_data_len, acc_data_len, ppg_data_len, label_data_len"
   ]
  },
  {
   "cell_type": "code",
   "execution_count": 142,
   "id": "b463dbc0-cd5a-428b-8770-8cc321a47e05",
   "metadata": {
    "tags": []
   },
   "outputs": [
    {
     "data": {
      "text/plain": [
       "((292800, 3),\n",
       " array([[-0.484375, -0.09375 ,  0.875   ],\n",
       "        [-0.484375, -0.09375 ,  0.875   ],\n",
       "        [-0.484375, -0.09375 ,  0.875   ],\n",
       "        ...,\n",
       "        [-1.046875,  0.      ,  0.078125],\n",
       "        [-0.9375  ,  0.296875,  0.28125 ],\n",
       "        [-0.75    ,  0.28125 ,  0.421875]]))"
      ]
     },
     "execution_count": 142,
     "metadata": {},
     "output_type": "execute_result"
    }
   ],
   "source": [
    "acc_raw_data.shape, acc_raw_data"
   ]
  },
  {
   "cell_type": "code",
   "execution_count": 143,
   "id": "f9e690a2-611a-4d83-b829-1f3ee743de35",
   "metadata": {
    "tags": []
   },
   "outputs": [
    {
     "data": {
      "text/plain": [
       "[-0.484375,\n",
       " -0.09375,\n",
       " 0.875,\n",
       " -0.484375,\n",
       " -0.09375,\n",
       " 0.875,\n",
       " -0.484375,\n",
       " -0.09375,\n",
       " 0.875]"
      ]
     },
     "execution_count": 143,
     "metadata": {},
     "output_type": "execute_result"
    }
   ],
   "source": [
    "# getting the 3 channels values to the first dimension\n",
    "acc_data_converted = acc_raw_data.reshape(3*acc_data_len,1)\n",
    "# converting it to a 1 dimensional array\n",
    "acc_data_one_dim = acc_data_converted.flatten()\n",
    "# # converting it to a non numpy array\n",
    "acc_data_arr = acc_data_one_dim.tolist()\n",
    "acc_data_arr[:9]"
   ]
  },
  {
   "cell_type": "code",
   "execution_count": 144,
   "id": "045d2d6e-f81f-4199-8fe9-3b877b823dc6",
   "metadata": {
    "tags": []
   },
   "outputs": [
    {
     "data": {
      "text/plain": [
       "(4575.0, 4575.0, 4575.0, 4572)"
      ]
     },
     "execution_count": 144,
     "metadata": {},
     "output_type": "execute_result"
    }
   ],
   "source": [
    "# matching all data to the label array length\n",
    "(temp_data_len*4)/(4*8), (acc_data_len*4)/(32*8), (ppg_data_len*4)/(64*8), label_data_len"
   ]
  },
  {
   "cell_type": "code",
   "execution_count": 145,
   "id": "36d2cdc0-085a-4112-a66e-395015ca3293",
   "metadata": {
    "tags": []
   },
   "outputs": [],
   "source": [
    "upd = {}\n",
    "for k in raw_data[\"signal\"][\"wrist\"].keys():\n",
    "    upd[k] = [a[0] for a in raw_data[\"signal\"][\"wrist\"][k]]\n",
    "\n",
    "temp_one_dim = upd['TEMP']\n",
    "ppg_one_dim = upd['BVP']"
   ]
  },
  {
   "cell_type": "code",
   "execution_count": 146,
   "id": "443847aa-f93a-408e-9f5a-29ad8091217f",
   "metadata": {
    "tags": []
   },
   "outputs": [
    {
     "data": {
      "text/plain": [
       "(4575, 32)"
      ]
     },
     "execution_count": 146,
     "metadata": {},
     "output_type": "execute_result"
    }
   ],
   "source": [
    "# S2 - temperature dataframe\n",
    "array_of_numbers = temp_one_dim\n",
    "len(array_of_numbers)\n",
    "\n",
    "length = 32\n",
    "shift = 8 # 4 Hz * 2\n",
    "\n",
    "temp_df = pd.DataFrame()\n",
    "\n",
    "chunks = []\n",
    "\n",
    "for i in range(0, len(array_of_numbers), shift):\n",
    "    dat = array_of_numbers[i:i + length]\n",
    "    chunks.append(dat)\n",
    "    temp_df = pd.concat([temp_df, pd.DataFrame([dat])], ignore_index=True)\n",
    "    \n",
    "temp_df.shape"
   ]
  },
  {
   "cell_type": "code",
   "execution_count": 147,
   "id": "e08f1409-7286-478e-a53c-0322f2c26665",
   "metadata": {
    "tags": []
   },
   "outputs": [
    {
     "data": {
      "text/plain": [
       "(array([[33.07],\n",
       "        [33.07],\n",
       "        [33.07],\n",
       "        [33.07],\n",
       "        [33.07],\n",
       "        [33.07],\n",
       "        [33.03],\n",
       "        [33.03],\n",
       "        [33.03]]),\n",
       "          0      1      2      3      4      5      6      7      8      9   \\\n",
       " 0     33.07  33.07  33.07  33.07  33.07  33.07  33.03  33.03  33.03  33.03   \n",
       " 1     33.03  33.03  33.05  33.05  33.05  33.05  33.05  33.05  33.05  33.05   \n",
       " 2     33.05  33.05  33.05  33.05  33.05  33.05  33.07  33.07  33.07  33.07   \n",
       " 3     33.07  33.07  33.09  33.09  33.09  33.09  33.05  33.05  33.05  33.05   \n",
       " 4     33.05  33.05  33.05  33.05  33.05  33.05  33.03  33.03  33.03  33.03   \n",
       " ...     ...    ...    ...    ...    ...    ...    ...    ...    ...    ...   \n",
       " 4570  34.21  34.21  34.23  34.23  34.23  34.23  34.21  34.21  34.21  34.21   \n",
       " 4571  34.21  34.21  34.16  34.16  34.16  34.16  34.21  34.21  34.21  34.21   \n",
       " 4572  34.21  34.21  34.16  34.16  34.16  34.16  34.18  34.18  34.18  34.18   \n",
       " 4573  34.18  34.18  34.16  34.16  34.16  34.16  34.16  34.16  34.16  34.16   \n",
       " 4574  34.16  34.16  34.21  34.21  34.21  34.21  34.16  34.16    NaN    NaN   \n",
       " \n",
       "       ...     22     23     24     25     26     27     28     29     30  \\\n",
       " 0     ...  33.07  33.07  33.07  33.07  33.09  33.09  33.09  33.09  33.05   \n",
       " 1     ...  33.05  33.05  33.05  33.05  33.05  33.05  33.05  33.05  33.03   \n",
       " 2     ...  33.03  33.03  33.03  33.03  33.07  33.07  33.07  33.07  33.05   \n",
       " 3     ...  33.05  33.05  33.05  33.05  33.05  33.05  33.05  33.05  33.00   \n",
       " 4     ...  33.00  33.00  33.00  33.00  33.03  33.03  33.03  33.03  33.00   \n",
       " ...   ...    ...    ...    ...    ...    ...    ...    ...    ...    ...   \n",
       " 4570  ...  34.18  34.18  34.18  34.18  34.16  34.16  34.16  34.16  34.16   \n",
       " 4571  ...  34.16  34.16  34.16  34.16  34.21  34.21  34.21  34.21  34.16   \n",
       " 4572  ...  34.16  34.16    NaN    NaN    NaN    NaN    NaN    NaN    NaN   \n",
       " 4573  ...    NaN    NaN    NaN    NaN    NaN    NaN    NaN    NaN    NaN   \n",
       " 4574  ...    NaN    NaN    NaN    NaN    NaN    NaN    NaN    NaN    NaN   \n",
       " \n",
       "          31  \n",
       " 0     33.05  \n",
       " 1     33.03  \n",
       " 2     33.05  \n",
       " 3     33.00  \n",
       " 4     33.00  \n",
       " ...     ...  \n",
       " 4570  34.16  \n",
       " 4571  34.16  \n",
       " 4572    NaN  \n",
       " 4573    NaN  \n",
       " 4574    NaN  \n",
       " \n",
       " [4575 rows x 32 columns])"
      ]
     },
     "execution_count": 147,
     "metadata": {},
     "output_type": "execute_result"
    }
   ],
   "source": [
    "# checking\n",
    "temp_raw_data[:9], temp_df"
   ]
  },
  {
   "cell_type": "code",
   "execution_count": 148,
   "id": "1e6b9648-20b8-40da-bc3c-209b78982c44",
   "metadata": {
    "tags": []
   },
   "outputs": [
    {
     "data": {
      "text/plain": [
       "(4575, 768)"
      ]
     },
     "execution_count": 148,
     "metadata": {},
     "output_type": "execute_result"
    }
   ],
   "source": [
    "# S2 - accelerometer dataframe\n",
    "array_of_numbers = acc_data_arr\n",
    "\n",
    "length = 768 # 256 data points in 8 seconds * 3 channels\n",
    "shift = 192 # 32 Hz * 3 channels * 2 shifts\n",
    "\n",
    "acc_df = pd.DataFrame()\n",
    "\n",
    "for i in range(0, len(array_of_numbers), shift):\n",
    "    dat = array_of_numbers[i:i + length]\n",
    "    # chunks.append(dat)\n",
    "    acc_df = pd.concat([acc_df, pd.DataFrame([dat])], ignore_index=True)\n",
    "    \n",
    "acc_df.shape"
   ]
  },
  {
   "cell_type": "code",
   "execution_count": 149,
   "id": "97f19967-a3c3-4898-ba23-817c75692a17",
   "metadata": {
    "tags": []
   },
   "outputs": [
    {
     "data": {
      "text/plain": [
       "(array([[-0.484375, -0.09375 ,  0.875   ],\n",
       "        [-0.484375, -0.09375 ,  0.875   ],\n",
       "        [-0.484375, -0.09375 ,  0.875   ],\n",
       "        [-0.484375, -0.09375 ,  0.859375],\n",
       "        [-0.484375, -0.09375 ,  0.875   ],\n",
       "        [-0.46875 , -0.09375 ,  0.875   ]]),\n",
       "            0         1         2         3         4         5         6    \\\n",
       " 0    -0.484375 -0.093750  0.875000 -0.484375 -0.093750  0.875000 -0.484375   \n",
       " 1    -0.687500  0.265625  0.750000 -0.703125  0.265625  0.718750 -0.625000   \n",
       " 2    -0.406250  0.421875  0.828125 -0.406250  0.421875  0.812500 -0.406250   \n",
       " 3    -0.671875  0.515625  0.546875 -0.687500  0.531250  0.515625 -0.718750   \n",
       " 4    -0.640625  0.703125  0.578125 -0.718750  0.796875  0.656250 -0.750000   \n",
       " ...        ...       ...       ...       ...       ...       ...       ...   \n",
       " 4570 -1.046875 -0.156250 -0.296875 -1.171875 -0.109375 -0.796875 -1.234375   \n",
       " 4571 -0.984375 -0.281250  0.125000 -0.968750 -0.281250  0.125000 -0.968750   \n",
       " 4572 -0.968750 -0.281250  0.125000 -0.953125 -0.265625  0.125000 -0.921875   \n",
       " 4573 -0.750000  0.609375 -0.687500 -0.718750  0.640625 -0.718750 -0.609375   \n",
       " 4574 -0.593750  0.265625 -0.859375 -0.656250  0.296875 -0.796875 -0.609375   \n",
       " \n",
       "            7         8         9    ...       758       759       760  \\\n",
       " 0    -0.093750  0.875000 -0.484375  ...  0.515625 -0.593750  0.437500   \n",
       " 1     0.281250  0.671875 -0.593750  ...  0.296875 -0.515625  0.937500   \n",
       " 2     0.406250  0.812500 -0.406250  ...  0.187500 -0.312500  0.921875   \n",
       " 3     0.546875  0.484375 -0.703125  ...  0.203125 -0.921875 -0.390625   \n",
       " 4     0.703125  0.671875 -0.640625  ...  0.187500 -0.937500 -0.359375   \n",
       " ...        ...       ...       ...  ...       ...       ...       ...   \n",
       " 4570 -0.093750 -1.140625 -1.562500  ... -0.859375 -0.562500  0.281250   \n",
       " 4571 -0.281250  0.109375 -0.968750  ...  0.109375 -1.046875  0.000000   \n",
       " 4572 -0.265625  0.125000 -0.921875  ...       NaN       NaN       NaN   \n",
       " 4573  0.671875 -0.609375 -0.468750  ...       NaN       NaN       NaN   \n",
       " 4574  0.328125 -0.609375 -0.609375  ...       NaN       NaN       NaN   \n",
       " \n",
       "            761       762       763       764       765       766       767  \n",
       " 0     0.453125 -0.593750  0.484375  0.437500 -0.625000  0.593750  0.531250  \n",
       " 1     0.281250 -0.578125  1.031250  0.296875 -0.578125  1.140625  0.312500  \n",
       " 2     0.187500 -0.312500  0.937500  0.187500 -0.328125  0.921875  0.187500  \n",
       " 3     0.234375 -0.937500 -0.390625  0.218750 -0.953125 -0.406250  0.187500  \n",
       " 4     0.187500 -0.937500 -0.375000  0.187500 -0.937500 -0.359375  0.187500  \n",
       " ...        ...       ...       ...       ...       ...       ...       ...  \n",
       " 4570 -0.859375 -0.593750  0.265625 -0.843750 -0.609375  0.281250 -0.812500  \n",
       " 4571  0.078125 -0.937500  0.296875  0.281250 -0.750000  0.281250  0.421875  \n",
       " 4572       NaN       NaN       NaN       NaN       NaN       NaN       NaN  \n",
       " 4573       NaN       NaN       NaN       NaN       NaN       NaN       NaN  \n",
       " 4574       NaN       NaN       NaN       NaN       NaN       NaN       NaN  \n",
       " \n",
       " [4575 rows x 768 columns])"
      ]
     },
     "execution_count": 149,
     "metadata": {},
     "output_type": "execute_result"
    }
   ],
   "source": [
    "# checking\n",
    "acc_raw_data[:6], acc_df"
   ]
  },
  {
   "cell_type": "code",
   "execution_count": 150,
   "id": "299ace5d-9b1e-48a8-9d9e-5e3e72770fc6",
   "metadata": {
    "tags": []
   },
   "outputs": [
    {
     "data": {
      "text/plain": [
       "(4575, 512)"
      ]
     },
     "execution_count": 150,
     "metadata": {},
     "output_type": "execute_result"
    }
   ],
   "source": [
    "# ppg dataframe\n",
    "array_of_numbers = ppg_one_dim\n",
    "len(array_of_numbers)\n",
    "\n",
    "length = 512 # data points in 8 seconds\n",
    "shift = 128 # 64 Hz * 2 shifts\n",
    "\n",
    "ppg_df = pd.DataFrame()\n",
    "\n",
    "for i in range(0, len(array_of_numbers), shift):\n",
    "    dat = array_of_numbers[i:i + length]\n",
    "    # chunks.append(dat)\n",
    "    ppg_df = pd.concat([ppg_df, pd.DataFrame([dat])], ignore_index=True)\n",
    "    \n",
    "ppg_df.shape"
   ]
  },
  {
   "cell_type": "code",
   "execution_count": 151,
   "id": "f76c0cb5-fad8-4106-a1b5-38645cbb0821",
   "metadata": {
    "tags": []
   },
   "outputs": [
    {
     "data": {
      "text/plain": [
       "(array([[ 8.83],\n",
       "        [10.94],\n",
       "        [12.34],\n",
       "        [13.02],\n",
       "        [13.04],\n",
       "        [12.54],\n",
       "        [11.75],\n",
       "        [10.93],\n",
       "        [10.31]]),\n",
       "          0       1       2      3      4      5      6      7       8    \\\n",
       " 0       8.83   10.94   12.34  13.02  13.04  12.54  11.75  10.93   10.31   \n",
       " 1      -0.44   -1.53   -2.14  -2.32  -2.30  -2.36  -2.76  -3.61   -4.81   \n",
       " 2      59.35   56.68   52.72  48.04  43.34  39.11  35.38  31.80   27.93   \n",
       " 3     -48.54  -46.37  -46.52 -47.65 -48.33 -47.49 -44.72 -40.26  -34.78   \n",
       " 4     -14.19  -12.43   -9.53  -5.55  -0.98   3.27   5.97   5.96    2.48   \n",
       " ...      ...     ...     ...    ...    ...    ...    ...    ...     ...   \n",
       " 4570   -1.46   -1.48   -2.00  -3.08  -4.67  -6.59  -8.63 -10.53  -12.17   \n",
       " 4571  138.45  125.94  111.83  94.29  71.05  39.84  -0.30 -49.96 -105.37   \n",
       " 4572   -9.37   -5.16   -1.41   1.64   3.92   5.46   6.41   6.91    7.06   \n",
       " 4573  109.31   84.75   56.48  29.08   5.79 -12.11 -24.92 -33.57  -38.85   \n",
       " 4574    2.74    1.35    0.05  -1.13  -2.24  -3.42  -4.81  -6.47   -8.39   \n",
       " \n",
       "          9    ...     502     503     504     505    506    507    508    509  \\\n",
       " 0      10.02  ...  -20.32  -20.57  -20.25  -19.41 -18.30 -17.20 -16.35 -15.82   \n",
       " 1      -6.06  ...   38.81   31.61   22.56   11.56  -0.83 -13.57 -25.49 -35.68   \n",
       " 2      23.51  ...   24.48   25.44   24.48   21.84  18.05  13.73   9.48   5.76   \n",
       " 3     -29.07  ...   -0.65    0.08    0.88    1.94   3.39   5.24   7.42   9.98   \n",
       " 4      -4.70  ...   22.61   26.84   30.38   33.33  35.93  38.57  41.52  44.82   \n",
       " ...      ...  ...     ...     ...     ...     ...    ...    ...    ...    ...   \n",
       " 4570  -13.56  ...    2.90    2.77    3.05    3.65   4.42   5.14   5.59   5.60   \n",
       " 4571 -160.51  ... -223.45 -190.94 -156.82 -119.42 -78.22 -33.24  15.31  66.60   \n",
       " 4572    6.90  ...     NaN     NaN     NaN     NaN    NaN    NaN    NaN    NaN   \n",
       " 4573  -41.19  ...     NaN     NaN     NaN     NaN    NaN    NaN    NaN    NaN   \n",
       " 4574  -10.47  ...     NaN     NaN     NaN     NaN    NaN    NaN    NaN    NaN   \n",
       " \n",
       "          510     511  \n",
       " 0     -15.49  -15.08  \n",
       " 1     -43.69  -49.47  \n",
       " 2       2.90    1.06  \n",
       " 3      13.02   16.73  \n",
       " 4      48.09   50.58  \n",
       " ...      ...     ...  \n",
       " 4570    5.06    4.05  \n",
       " 4571  118.43  166.83  \n",
       " 4572     NaN     NaN  \n",
       " 4573     NaN     NaN  \n",
       " 4574     NaN     NaN  \n",
       " \n",
       " [4575 rows x 512 columns])"
      ]
     },
     "execution_count": 151,
     "metadata": {},
     "output_type": "execute_result"
    }
   ],
   "source": [
    "#checking\n",
    "ppg_raw_data[:9], ppg_df"
   ]
  },
  {
   "cell_type": "code",
   "execution_count": 152,
   "id": "b11d93ad-829e-4309-8c81-6dc13fc4e78e",
   "metadata": {
    "tags": []
   },
   "outputs": [
    {
     "data": {
      "text/plain": [
       "(4572, 1)"
      ]
     },
     "execution_count": 152,
     "metadata": {},
     "output_type": "execute_result"
    }
   ],
   "source": [
    "# label dataframe\n",
    "# converting to one dimension\n",
    "label_arr = label_raw_data.tolist()\n",
    "#creating the dataframe\n",
    "label_df = pd.DataFrame(label_arr)\n",
    "label_df.shape"
   ]
  },
  {
   "cell_type": "code",
   "execution_count": 153,
   "id": "68c02b02-3742-4daf-9f3f-10b1f1e29606",
   "metadata": {
    "tags": []
   },
   "outputs": [
    {
     "data": {
      "text/plain": [
       "(array([69.33133569, 74.23985397, 80.68656756, 83.98705209, 86.64274123,\n",
       "        87.26296543, 85.31018458, 81.27098202, 75.13336681]),\n",
       "               0\n",
       " 0     69.331336\n",
       " 1     74.239854\n",
       " 2     80.686568\n",
       " 3     83.987052\n",
       " 4     86.642741\n",
       " ...         ...\n",
       " 4567  94.803254\n",
       " 4568  86.073423\n",
       " 4569  83.092390\n",
       " 4570  84.577227\n",
       " 4571  88.221438\n",
       " \n",
       " [4572 rows x 1 columns])"
      ]
     },
     "execution_count": 153,
     "metadata": {},
     "output_type": "execute_result"
    }
   ],
   "source": [
    "#checking\n",
    "label_raw_data[:9], label_df"
   ]
  },
  {
   "cell_type": "code",
   "execution_count": 154,
   "id": "5b23ef57-22c5-4cb8-9137-ce65d068c4f2",
   "metadata": {
    "tags": []
   },
   "outputs": [
    {
     "data": {
      "text/html": [
       "<div>\n",
       "<style scoped>\n",
       "    .dataframe tbody tr th:only-of-type {\n",
       "        vertical-align: middle;\n",
       "    }\n",
       "\n",
       "    .dataframe tbody tr th {\n",
       "        vertical-align: top;\n",
       "    }\n",
       "\n",
       "    .dataframe thead th {\n",
       "        text-align: right;\n",
       "    }\n",
       "</style>\n",
       "<table border=\"1\" class=\"dataframe\">\n",
       "  <thead>\n",
       "    <tr style=\"text-align: right;\">\n",
       "      <th></th>\n",
       "      <th>0</th>\n",
       "      <th>1</th>\n",
       "      <th>2</th>\n",
       "      <th>3</th>\n",
       "      <th>4</th>\n",
       "      <th>5</th>\n",
       "      <th>6</th>\n",
       "      <th>7</th>\n",
       "      <th>8</th>\n",
       "      <th>9</th>\n",
       "      <th>...</th>\n",
       "      <th>1303</th>\n",
       "      <th>1304</th>\n",
       "      <th>1305</th>\n",
       "      <th>1306</th>\n",
       "      <th>1307</th>\n",
       "      <th>1308</th>\n",
       "      <th>1309</th>\n",
       "      <th>1310</th>\n",
       "      <th>1311</th>\n",
       "      <th>1312</th>\n",
       "    </tr>\n",
       "  </thead>\n",
       "  <tbody>\n",
       "    <tr>\n",
       "      <th>0</th>\n",
       "      <td>8.83</td>\n",
       "      <td>10.94</td>\n",
       "      <td>12.34</td>\n",
       "      <td>13.02</td>\n",
       "      <td>13.04</td>\n",
       "      <td>12.54</td>\n",
       "      <td>11.75</td>\n",
       "      <td>10.93</td>\n",
       "      <td>10.31</td>\n",
       "      <td>10.02</td>\n",
       "      <td>...</td>\n",
       "      <td>33.07</td>\n",
       "      <td>33.07</td>\n",
       "      <td>33.07</td>\n",
       "      <td>33.09</td>\n",
       "      <td>33.09</td>\n",
       "      <td>33.09</td>\n",
       "      <td>33.09</td>\n",
       "      <td>33.05</td>\n",
       "      <td>33.05</td>\n",
       "      <td>69.331336</td>\n",
       "    </tr>\n",
       "    <tr>\n",
       "      <th>1</th>\n",
       "      <td>-0.44</td>\n",
       "      <td>-1.53</td>\n",
       "      <td>-2.14</td>\n",
       "      <td>-2.32</td>\n",
       "      <td>-2.30</td>\n",
       "      <td>-2.36</td>\n",
       "      <td>-2.76</td>\n",
       "      <td>-3.61</td>\n",
       "      <td>-4.81</td>\n",
       "      <td>-6.06</td>\n",
       "      <td>...</td>\n",
       "      <td>33.05</td>\n",
       "      <td>33.05</td>\n",
       "      <td>33.05</td>\n",
       "      <td>33.05</td>\n",
       "      <td>33.05</td>\n",
       "      <td>33.05</td>\n",
       "      <td>33.05</td>\n",
       "      <td>33.03</td>\n",
       "      <td>33.03</td>\n",
       "      <td>74.239854</td>\n",
       "    </tr>\n",
       "    <tr>\n",
       "      <th>2</th>\n",
       "      <td>59.35</td>\n",
       "      <td>56.68</td>\n",
       "      <td>52.72</td>\n",
       "      <td>48.04</td>\n",
       "      <td>43.34</td>\n",
       "      <td>39.11</td>\n",
       "      <td>35.38</td>\n",
       "      <td>31.80</td>\n",
       "      <td>27.93</td>\n",
       "      <td>23.51</td>\n",
       "      <td>...</td>\n",
       "      <td>33.03</td>\n",
       "      <td>33.03</td>\n",
       "      <td>33.03</td>\n",
       "      <td>33.07</td>\n",
       "      <td>33.07</td>\n",
       "      <td>33.07</td>\n",
       "      <td>33.07</td>\n",
       "      <td>33.05</td>\n",
       "      <td>33.05</td>\n",
       "      <td>80.686568</td>\n",
       "    </tr>\n",
       "    <tr>\n",
       "      <th>3</th>\n",
       "      <td>-48.54</td>\n",
       "      <td>-46.37</td>\n",
       "      <td>-46.52</td>\n",
       "      <td>-47.65</td>\n",
       "      <td>-48.33</td>\n",
       "      <td>-47.49</td>\n",
       "      <td>-44.72</td>\n",
       "      <td>-40.26</td>\n",
       "      <td>-34.78</td>\n",
       "      <td>-29.07</td>\n",
       "      <td>...</td>\n",
       "      <td>33.05</td>\n",
       "      <td>33.05</td>\n",
       "      <td>33.05</td>\n",
       "      <td>33.05</td>\n",
       "      <td>33.05</td>\n",
       "      <td>33.05</td>\n",
       "      <td>33.05</td>\n",
       "      <td>33.00</td>\n",
       "      <td>33.00</td>\n",
       "      <td>83.987052</td>\n",
       "    </tr>\n",
       "    <tr>\n",
       "      <th>4</th>\n",
       "      <td>-14.19</td>\n",
       "      <td>-12.43</td>\n",
       "      <td>-9.53</td>\n",
       "      <td>-5.55</td>\n",
       "      <td>-0.98</td>\n",
       "      <td>3.27</td>\n",
       "      <td>5.97</td>\n",
       "      <td>5.96</td>\n",
       "      <td>2.48</td>\n",
       "      <td>-4.70</td>\n",
       "      <td>...</td>\n",
       "      <td>33.00</td>\n",
       "      <td>33.00</td>\n",
       "      <td>33.00</td>\n",
       "      <td>33.03</td>\n",
       "      <td>33.03</td>\n",
       "      <td>33.03</td>\n",
       "      <td>33.03</td>\n",
       "      <td>33.00</td>\n",
       "      <td>33.00</td>\n",
       "      <td>86.642741</td>\n",
       "    </tr>\n",
       "    <tr>\n",
       "      <th>...</th>\n",
       "      <td>...</td>\n",
       "      <td>...</td>\n",
       "      <td>...</td>\n",
       "      <td>...</td>\n",
       "      <td>...</td>\n",
       "      <td>...</td>\n",
       "      <td>...</td>\n",
       "      <td>...</td>\n",
       "      <td>...</td>\n",
       "      <td>...</td>\n",
       "      <td>...</td>\n",
       "      <td>...</td>\n",
       "      <td>...</td>\n",
       "      <td>...</td>\n",
       "      <td>...</td>\n",
       "      <td>...</td>\n",
       "      <td>...</td>\n",
       "      <td>...</td>\n",
       "      <td>...</td>\n",
       "      <td>...</td>\n",
       "      <td>...</td>\n",
       "    </tr>\n",
       "    <tr>\n",
       "      <th>4570</th>\n",
       "      <td>-1.46</td>\n",
       "      <td>-1.48</td>\n",
       "      <td>-2.00</td>\n",
       "      <td>-3.08</td>\n",
       "      <td>-4.67</td>\n",
       "      <td>-6.59</td>\n",
       "      <td>-8.63</td>\n",
       "      <td>-10.53</td>\n",
       "      <td>-12.17</td>\n",
       "      <td>-13.56</td>\n",
       "      <td>...</td>\n",
       "      <td>34.18</td>\n",
       "      <td>34.18</td>\n",
       "      <td>34.18</td>\n",
       "      <td>34.16</td>\n",
       "      <td>34.16</td>\n",
       "      <td>34.16</td>\n",
       "      <td>34.16</td>\n",
       "      <td>34.16</td>\n",
       "      <td>34.16</td>\n",
       "      <td>84.577227</td>\n",
       "    </tr>\n",
       "    <tr>\n",
       "      <th>4571</th>\n",
       "      <td>138.45</td>\n",
       "      <td>125.94</td>\n",
       "      <td>111.83</td>\n",
       "      <td>94.29</td>\n",
       "      <td>71.05</td>\n",
       "      <td>39.84</td>\n",
       "      <td>-0.30</td>\n",
       "      <td>-49.96</td>\n",
       "      <td>-105.37</td>\n",
       "      <td>-160.51</td>\n",
       "      <td>...</td>\n",
       "      <td>34.16</td>\n",
       "      <td>34.16</td>\n",
       "      <td>34.16</td>\n",
       "      <td>34.21</td>\n",
       "      <td>34.21</td>\n",
       "      <td>34.21</td>\n",
       "      <td>34.21</td>\n",
       "      <td>34.16</td>\n",
       "      <td>34.16</td>\n",
       "      <td>88.221438</td>\n",
       "    </tr>\n",
       "    <tr>\n",
       "      <th>4572</th>\n",
       "      <td>-9.37</td>\n",
       "      <td>-5.16</td>\n",
       "      <td>-1.41</td>\n",
       "      <td>1.64</td>\n",
       "      <td>3.92</td>\n",
       "      <td>5.46</td>\n",
       "      <td>6.41</td>\n",
       "      <td>6.91</td>\n",
       "      <td>7.06</td>\n",
       "      <td>6.90</td>\n",
       "      <td>...</td>\n",
       "      <td>34.16</td>\n",
       "      <td>NaN</td>\n",
       "      <td>NaN</td>\n",
       "      <td>NaN</td>\n",
       "      <td>NaN</td>\n",
       "      <td>NaN</td>\n",
       "      <td>NaN</td>\n",
       "      <td>NaN</td>\n",
       "      <td>NaN</td>\n",
       "      <td>NaN</td>\n",
       "    </tr>\n",
       "    <tr>\n",
       "      <th>4573</th>\n",
       "      <td>109.31</td>\n",
       "      <td>84.75</td>\n",
       "      <td>56.48</td>\n",
       "      <td>29.08</td>\n",
       "      <td>5.79</td>\n",
       "      <td>-12.11</td>\n",
       "      <td>-24.92</td>\n",
       "      <td>-33.57</td>\n",
       "      <td>-38.85</td>\n",
       "      <td>-41.19</td>\n",
       "      <td>...</td>\n",
       "      <td>NaN</td>\n",
       "      <td>NaN</td>\n",
       "      <td>NaN</td>\n",
       "      <td>NaN</td>\n",
       "      <td>NaN</td>\n",
       "      <td>NaN</td>\n",
       "      <td>NaN</td>\n",
       "      <td>NaN</td>\n",
       "      <td>NaN</td>\n",
       "      <td>NaN</td>\n",
       "    </tr>\n",
       "    <tr>\n",
       "      <th>4574</th>\n",
       "      <td>2.74</td>\n",
       "      <td>1.35</td>\n",
       "      <td>0.05</td>\n",
       "      <td>-1.13</td>\n",
       "      <td>-2.24</td>\n",
       "      <td>-3.42</td>\n",
       "      <td>-4.81</td>\n",
       "      <td>-6.47</td>\n",
       "      <td>-8.39</td>\n",
       "      <td>-10.47</td>\n",
       "      <td>...</td>\n",
       "      <td>NaN</td>\n",
       "      <td>NaN</td>\n",
       "      <td>NaN</td>\n",
       "      <td>NaN</td>\n",
       "      <td>NaN</td>\n",
       "      <td>NaN</td>\n",
       "      <td>NaN</td>\n",
       "      <td>NaN</td>\n",
       "      <td>NaN</td>\n",
       "      <td>NaN</td>\n",
       "    </tr>\n",
       "  </tbody>\n",
       "</table>\n",
       "<p>4575 rows × 1313 columns</p>\n",
       "</div>"
      ],
      "text/plain": [
       "        0       1       2      3      4      5      6      7       8     \\\n",
       "0       8.83   10.94   12.34  13.02  13.04  12.54  11.75  10.93   10.31   \n",
       "1      -0.44   -1.53   -2.14  -2.32  -2.30  -2.36  -2.76  -3.61   -4.81   \n",
       "2      59.35   56.68   52.72  48.04  43.34  39.11  35.38  31.80   27.93   \n",
       "3     -48.54  -46.37  -46.52 -47.65 -48.33 -47.49 -44.72 -40.26  -34.78   \n",
       "4     -14.19  -12.43   -9.53  -5.55  -0.98   3.27   5.97   5.96    2.48   \n",
       "...      ...     ...     ...    ...    ...    ...    ...    ...     ...   \n",
       "4570   -1.46   -1.48   -2.00  -3.08  -4.67  -6.59  -8.63 -10.53  -12.17   \n",
       "4571  138.45  125.94  111.83  94.29  71.05  39.84  -0.30 -49.96 -105.37   \n",
       "4572   -9.37   -5.16   -1.41   1.64   3.92   5.46   6.41   6.91    7.06   \n",
       "4573  109.31   84.75   56.48  29.08   5.79 -12.11 -24.92 -33.57  -38.85   \n",
       "4574    2.74    1.35    0.05  -1.13  -2.24  -3.42  -4.81  -6.47   -8.39   \n",
       "\n",
       "        9     ...   1303   1304   1305   1306   1307   1308   1309   1310  \\\n",
       "0      10.02  ...  33.07  33.07  33.07  33.09  33.09  33.09  33.09  33.05   \n",
       "1      -6.06  ...  33.05  33.05  33.05  33.05  33.05  33.05  33.05  33.03   \n",
       "2      23.51  ...  33.03  33.03  33.03  33.07  33.07  33.07  33.07  33.05   \n",
       "3     -29.07  ...  33.05  33.05  33.05  33.05  33.05  33.05  33.05  33.00   \n",
       "4      -4.70  ...  33.00  33.00  33.00  33.03  33.03  33.03  33.03  33.00   \n",
       "...      ...  ...    ...    ...    ...    ...    ...    ...    ...    ...   \n",
       "4570  -13.56  ...  34.18  34.18  34.18  34.16  34.16  34.16  34.16  34.16   \n",
       "4571 -160.51  ...  34.16  34.16  34.16  34.21  34.21  34.21  34.21  34.16   \n",
       "4572    6.90  ...  34.16    NaN    NaN    NaN    NaN    NaN    NaN    NaN   \n",
       "4573  -41.19  ...    NaN    NaN    NaN    NaN    NaN    NaN    NaN    NaN   \n",
       "4574  -10.47  ...    NaN    NaN    NaN    NaN    NaN    NaN    NaN    NaN   \n",
       "\n",
       "       1311       1312  \n",
       "0     33.05  69.331336  \n",
       "1     33.03  74.239854  \n",
       "2     33.05  80.686568  \n",
       "3     33.00  83.987052  \n",
       "4     33.00  86.642741  \n",
       "...     ...        ...  \n",
       "4570  34.16  84.577227  \n",
       "4571  34.16  88.221438  \n",
       "4572    NaN        NaN  \n",
       "4573    NaN        NaN  \n",
       "4574    NaN        NaN  \n",
       "\n",
       "[4575 rows x 1313 columns]"
      ]
     },
     "execution_count": 154,
     "metadata": {},
     "output_type": "execute_result"
    }
   ],
   "source": [
    "frames = [ppg_df, acc_df, temp_df, label_df]\n",
    "\n",
    "result_df = pd.concat(frames, axis=1, ignore_index=True)\n",
    "result_df"
   ]
  },
  {
   "cell_type": "code",
   "execution_count": 174,
   "id": "526d779a-ecb5-4738-868f-52f1ebe512d7",
   "metadata": {
    "tags": []
   },
   "outputs": [],
   "source": [
    "# result_df.to_csv('../ppg_heart_rate_estimation/Subjects/S4/S4.csv', index=False)"
   ]
  },
  {
   "cell_type": "code",
   "execution_count": null,
   "id": "f1d195c1-7df8-4264-b882-42df781c09f7",
   "metadata": {},
   "outputs": [],
   "source": []
  }
 ],
 "metadata": {
  "kernelspec": {
   "display_name": "Python 3 (ipykernel)",
   "language": "python",
   "name": "python3"
  },
  "language_info": {
   "codemirror_mode": {
    "name": "ipython",
    "version": 3
   },
   "file_extension": ".py",
   "mimetype": "text/x-python",
   "name": "python",
   "nbconvert_exporter": "python",
   "pygments_lexer": "ipython3",
   "version": "3.11.5"
  }
 },
 "nbformat": 4,
 "nbformat_minor": 5
}
