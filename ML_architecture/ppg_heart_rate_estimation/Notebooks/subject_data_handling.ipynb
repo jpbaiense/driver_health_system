{
 "cells": [
  {
   "cell_type": "markdown",
   "id": "f501cd5c-f92b-4adb-9a85-87b457a93a56",
   "metadata": {},
   "source": [
    "### Subject data handling"
   ]
  },
  {
   "cell_type": "code",
   "execution_count": 5,
   "id": "f9c2da52-80fe-4fbb-8d2c-e3fb2c33d223",
   "metadata": {
    "tags": []
   },
   "outputs": [],
   "source": [
    "# Import pickle and open Subject 1 file\n",
    "# using 'latin1' encoding to pickled objects\n",
    "import pickle\n",
    "import pandas as pd\n",
    "import numpy as np\n",
    "\n",
    "with open('../Subjects/S15/S15.pkl', 'rb') as f:\n",
    "    raw_data = pickle.load(f, encoding='latin1')"
   ]
  },
  {
   "cell_type": "code",
   "execution_count": 7,
   "id": "38372b18-6f1e-43eb-876f-1c78d7bd52c6",
   "metadata": {
    "tags": []
   },
   "outputs": [],
   "source": [
    "temp_raw_data = raw_data['signal']['wrist']['TEMP']\n",
    "acc_raw_data = raw_data['signal']['wrist']['ACC']\n",
    "ppg_raw_data = raw_data['signal']['wrist']['BVP']\n",
    "label_raw_data = raw_data['label']"
   ]
  },
  {
   "cell_type": "code",
   "execution_count": 9,
   "id": "74ca2d10-f50f-4fb3-a0df-b0ee07501cdb",
   "metadata": {
    "tags": []
   },
   "outputs": [
    {
     "data": {
      "text/plain": [
       "(31756, 254048, 508096, 3966)"
      ]
     },
     "execution_count": 9,
     "metadata": {},
     "output_type": "execute_result"
    }
   ],
   "source": [
    "temp_data_len = len(temp_raw_data)\n",
    "acc_data_len = len(acc_raw_data)\n",
    "ppg_data_len = len(ppg_raw_data)\n",
    "label_data_len = len(label_raw_data)\n",
    "temp_data_len, acc_data_len, ppg_data_len, label_data_len"
   ]
  },
  {
   "cell_type": "code",
   "execution_count": 11,
   "id": "b463dbc0-cd5a-428b-8770-8cc321a47e05",
   "metadata": {
    "tags": []
   },
   "outputs": [
    {
     "data": {
      "text/plain": [
       "((254048, 3),\n",
       " array([[-0.671875,  0.34375 ,  0.65625 ],\n",
       "        [-0.703125,  0.3125  ,  0.640625],\n",
       "        [-0.703125,  0.328125,  0.640625],\n",
       "        ...,\n",
       "        [-0.234375,  0.28125 , -0.90625 ],\n",
       "        [-0.21875 ,  0.28125 , -0.90625 ],\n",
       "        [-0.21875 ,  0.28125 , -0.921875]]))"
      ]
     },
     "execution_count": 11,
     "metadata": {},
     "output_type": "execute_result"
    }
   ],
   "source": [
    "acc_raw_data.shape, acc_raw_data"
   ]
  },
  {
   "cell_type": "code",
   "execution_count": 13,
   "id": "f9e690a2-611a-4d83-b829-1f3ee743de35",
   "metadata": {
    "tags": []
   },
   "outputs": [
    {
     "data": {
      "text/plain": [
       "([-0.671875,\n",
       "  0.34375,\n",
       "  0.65625,\n",
       "  -0.703125,\n",
       "  0.3125,\n",
       "  0.640625,\n",
       "  -0.703125,\n",
       "  0.328125,\n",
       "  0.640625],\n",
       " 762144)"
      ]
     },
     "execution_count": 13,
     "metadata": {},
     "output_type": "execute_result"
    }
   ],
   "source": [
    "# getting the 3 channels values to the first dimension\n",
    "acc_data_converted = acc_raw_data.reshape(3*acc_data_len,1)\n",
    "# converting it to a 1 dimensional array\n",
    "acc_data_one_dim = acc_data_converted.flatten()\n",
    "# # converting it to a non numpy array\n",
    "acc_data_arr = acc_data_one_dim.tolist()\n",
    "acc_data_arr[:9], len(acc_data_arr)"
   ]
  },
  {
   "cell_type": "code",
   "execution_count": 572,
   "id": "045d2d6e-f81f-4199-8fe9-3b877b823dc6",
   "metadata": {
    "tags": []
   },
   "outputs": [
    {
     "data": {
      "text/plain": [
       "(3969.5, 3969.5, 3969.5, 3966)"
      ]
     },
     "execution_count": 572,
     "metadata": {},
     "output_type": "execute_result"
    }
   ],
   "source": [
    "# matching all data to the label array length\n",
    "(temp_data_len*4)/(4*8), (acc_data_len*4)/(32*8), (ppg_data_len*4)/(64*8), label_data_len"
   ]
  },
  {
   "cell_type": "code",
   "execution_count": 15,
   "id": "36d2cdc0-085a-4112-a66e-395015ca3293",
   "metadata": {
    "tags": []
   },
   "outputs": [],
   "source": [
    "upd = {}\n",
    "for k in raw_data[\"signal\"][\"wrist\"].keys():\n",
    "    upd[k] = [a[0] for a in raw_data[\"signal\"][\"wrist\"][k]]\n",
    "\n",
    "temp_one_dim = upd['TEMP']\n",
    "ppg_one_dim = upd['BVP']"
   ]
  },
  {
   "cell_type": "code",
   "execution_count": 17,
   "id": "443847aa-f93a-408e-9f5a-29ad8091217f",
   "metadata": {
    "tags": []
   },
   "outputs": [
    {
     "data": {
      "text/plain": [
       "(3970, 32)"
      ]
     },
     "execution_count": 17,
     "metadata": {},
     "output_type": "execute_result"
    }
   ],
   "source": [
    "# S2 - temperature dataframe\n",
    "array_of_numbers = temp_one_dim\n",
    "len(array_of_numbers)\n",
    "\n",
    "length = 32\n",
    "shift = 8 # 4 Hz * 2\n",
    "\n",
    "temp_df = pd.DataFrame()\n",
    "\n",
    "chunks = []\n",
    "\n",
    "for i in range(0, len(array_of_numbers), shift):\n",
    "    dat = array_of_numbers[i:i + length]\n",
    "    chunks.append(dat)\n",
    "    temp_df = pd.concat([temp_df, pd.DataFrame([dat])], ignore_index=True)\n",
    "    \n",
    "temp_df.shape"
   ]
  },
  {
   "cell_type": "code",
   "execution_count": 18,
   "id": "e08f1409-7286-478e-a53c-0322f2c26665",
   "metadata": {
    "tags": []
   },
   "outputs": [
    {
     "data": {
      "text/plain": [
       "(array([[31.09],\n",
       "        [31.09],\n",
       "        [31.09],\n",
       "        [31.09],\n",
       "        [31.07],\n",
       "        [31.07],\n",
       "        [31.07],\n",
       "        [31.07],\n",
       "        [31.07]]),\n",
       "          0      1      2      3      4      5      6      7      8      9   \\\n",
       " 0     31.09  31.09  31.09  31.09  31.07  31.07  31.07  31.07  31.07  31.07   \n",
       " 1     31.07  31.07  31.07  31.07  31.09  31.09  31.09  31.09  31.11  31.11   \n",
       " 2     31.11  31.11  31.11  31.11  31.11  31.11  31.11  31.11  31.09  31.09   \n",
       " 3     31.09  31.09  31.09  31.09  31.09  31.09  31.09  31.09  31.11  31.11   \n",
       " 4     31.11  31.11  31.11  31.11  31.11  31.11  31.11  31.11  31.09  31.09   \n",
       " ...     ...    ...    ...    ...    ...    ...    ...    ...    ...    ...   \n",
       " 3965  34.00  34.00  34.00  34.00  34.00  34.00  34.00  34.00  33.99  33.99   \n",
       " 3966  33.99  33.99  33.99  33.99  33.99  33.99  33.99  33.99  33.99  33.99   \n",
       " 3967  33.99  33.99  33.99  33.99  34.00  34.00  34.00  34.00  33.99  33.99   \n",
       " 3968  33.99  33.99  33.99  33.99  33.99  33.99  33.99  33.99  33.99  33.99   \n",
       " 3969  33.99  33.99  33.99  33.99    NaN    NaN    NaN    NaN    NaN    NaN   \n",
       " \n",
       "       ...     22     23     24     25     26     27     28     29     30  \\\n",
       " 0     ...  31.11  31.11  31.09  31.09  31.09  31.09  31.09  31.09  31.09   \n",
       " 1     ...  31.09  31.09  31.11  31.11  31.11  31.11  31.11  31.11  31.11   \n",
       " 2     ...  31.11  31.11  31.09  31.09  31.09  31.09  31.07  31.07  31.07   \n",
       " 3     ...  31.07  31.07  31.09  31.09  31.09  31.09  31.11  31.11  31.11   \n",
       " 4     ...  31.11  31.11  31.11  31.11  31.11  31.11  31.13  31.13  31.13   \n",
       " ...   ...    ...    ...    ...    ...    ...    ...    ...    ...    ...   \n",
       " 3965  ...  34.00  34.00  33.99  33.99  33.99  33.99  33.99  33.99  33.99   \n",
       " 3966  ...  33.99  33.99  33.99  33.99  33.99  33.99    NaN    NaN    NaN   \n",
       " 3967  ...    NaN    NaN    NaN    NaN    NaN    NaN    NaN    NaN    NaN   \n",
       " 3968  ...    NaN    NaN    NaN    NaN    NaN    NaN    NaN    NaN    NaN   \n",
       " 3969  ...    NaN    NaN    NaN    NaN    NaN    NaN    NaN    NaN    NaN   \n",
       " \n",
       "          31  \n",
       " 0     31.09  \n",
       " 1     31.11  \n",
       " 2     31.07  \n",
       " 3     31.11  \n",
       " 4     31.13  \n",
       " ...     ...  \n",
       " 3965  33.99  \n",
       " 3966    NaN  \n",
       " 3967    NaN  \n",
       " 3968    NaN  \n",
       " 3969    NaN  \n",
       " \n",
       " [3970 rows x 32 columns])"
      ]
     },
     "execution_count": 18,
     "metadata": {},
     "output_type": "execute_result"
    }
   ],
   "source": [
    "# checking\n",
    "temp_raw_data[:9], temp_df"
   ]
  },
  {
   "cell_type": "code",
   "execution_count": 19,
   "id": "1e6b9648-20b8-40da-bc3c-209b78982c44",
   "metadata": {
    "tags": []
   },
   "outputs": [
    {
     "data": {
      "text/plain": [
       "(3970, 768)"
      ]
     },
     "execution_count": 19,
     "metadata": {},
     "output_type": "execute_result"
    }
   ],
   "source": [
    "# S2 - accelerometer dataframe\n",
    "array_of_numbers = acc_data_arr\n",
    "\n",
    "length = 768 # 256 data points in 8 seconds * 3 channels\n",
    "shift = 192 # 32 Hz * 3 channels * 2 shifts\n",
    "\n",
    "acc_df = pd.DataFrame()\n",
    "\n",
    "for i in range(0, len(array_of_numbers), shift):\n",
    "    dat = array_of_numbers[i:i + length]\n",
    "    # chunks.append(dat)\n",
    "    acc_df = pd.concat([acc_df, pd.DataFrame([dat])], ignore_index=True)\n",
    "    \n",
    "acc_df.shape"
   ]
  },
  {
   "cell_type": "code",
   "execution_count": 28,
   "id": "97f19967-a3c3-4898-ba23-817c75692a17",
   "metadata": {
    "tags": []
   },
   "outputs": [
    {
     "data": {
      "text/plain": [
       "(array([[-0.671875,  0.34375 ,  0.65625 ],\n",
       "        [-0.703125,  0.3125  ,  0.640625],\n",
       "        [-0.703125,  0.328125,  0.640625],\n",
       "        [-0.703125,  0.34375 ,  0.640625],\n",
       "        [-0.71875 ,  0.328125,  0.609375],\n",
       "        [-0.75    ,  0.34375 ,  0.609375]]),\n",
       "            0         1         2         3         4         5         6    \\\n",
       " 0    -0.671875  0.343750  0.656250 -0.703125  0.312500  0.640625 -0.703125   \n",
       " 1    -0.984375 -0.062500 -0.234375 -0.953125 -0.062500 -0.171875 -0.953125   \n",
       " 2    -1.015625  0.031250 -0.109375 -1.015625  0.031250 -0.093750 -1.000000   \n",
       " 3    -0.984375 -0.156250  0.203125 -0.984375 -0.140625  0.265625 -1.031250   \n",
       " 4    -0.734375  0.156250  0.609375 -0.765625  0.140625  0.593750 -0.828125   \n",
       " ...        ...       ...       ...       ...       ...       ...       ...   \n",
       " 3965 -0.296875 -0.015625  0.937500 -0.296875 -0.015625  0.937500 -0.296875   \n",
       " 3966 -2.000000 -0.093750 -0.718750 -0.203125  0.156250 -0.234375 -1.203125   \n",
       " 3967 -0.265625  0.015625  0.953125 -0.265625  0.015625  0.937500 -0.234375   \n",
       " 3968 -0.812500  0.843750  0.000000 -0.843750  0.828125  0.000000 -0.765625   \n",
       " 3969 -0.609375  0.890625  0.265625 -0.453125  0.906250  0.281250 -0.421875   \n",
       " \n",
       "            7         8         9    ...       758       759       760  \\\n",
       " 0     0.328125  0.640625 -0.703125  ...  0.609375 -0.843750  0.171875   \n",
       " 1    -0.046875 -0.203125 -0.937500  ...  0.171875 -0.187500  0.656250   \n",
       " 2     0.015625 -0.093750 -1.000000  ...  0.187500 -0.984375 -0.171875   \n",
       " 3    -0.140625  0.234375 -0.968750  ...  0.265625 -1.000000 -0.046875   \n",
       " 4     0.125000  0.578125 -0.828125  ...  0.265625 -0.984375 -0.062500   \n",
       " ...        ...       ...       ...  ...       ...       ...       ...   \n",
       " 3965 -0.015625  0.937500 -0.296875  ...  0.140625 -0.531250  0.843750   \n",
       " 3966 -0.234375  0.312500 -1.265625  ...       NaN       NaN       NaN   \n",
       " 3967  0.000000  0.953125 -0.250000  ...       NaN       NaN       NaN   \n",
       " 3968  0.765625  0.015625 -0.703125  ...       NaN       NaN       NaN   \n",
       " 3969  0.890625  0.140625 -0.640625  ...       NaN       NaN       NaN   \n",
       " \n",
       "            761       762     763       764       765       766       767  \n",
       " 0     0.656250 -0.859375  0.1875  0.671875 -0.765625  0.203125  0.640625  \n",
       " 1     0.187500 -0.156250  0.5000  0.218750 -0.187500  0.406250  0.218750  \n",
       " 2     0.156250 -1.000000 -0.1875  0.203125 -1.031250 -0.203125  0.281250  \n",
       " 3     0.265625 -0.984375 -0.0625  0.265625 -1.000000 -0.062500  0.265625  \n",
       " 4     0.265625 -0.984375 -0.0625  0.265625 -0.984375 -0.062500  0.265625  \n",
       " ...        ...       ...     ...       ...       ...       ...       ...  \n",
       " 3965  0.171875 -0.578125  0.8750  0.187500 -0.578125  0.890625  0.203125  \n",
       " 3966       NaN       NaN     NaN       NaN       NaN       NaN       NaN  \n",
       " 3967       NaN       NaN     NaN       NaN       NaN       NaN       NaN  \n",
       " 3968       NaN       NaN     NaN       NaN       NaN       NaN       NaN  \n",
       " 3969       NaN       NaN     NaN       NaN       NaN       NaN       NaN  \n",
       " \n",
       " [3970 rows x 768 columns],\n",
       " 254048)"
      ]
     },
     "execution_count": 28,
     "metadata": {},
     "output_type": "execute_result"
    }
   ],
   "source": [
    "# checking\n",
    "acc_raw_data[:6], acc_df, len(acc_raw_data)"
   ]
  },
  {
   "cell_type": "code",
   "execution_count": 23,
   "id": "299ace5d-9b1e-48a8-9d9e-5e3e72770fc6",
   "metadata": {
    "tags": []
   },
   "outputs": [
    {
     "data": {
      "text/plain": [
       "(3970, 512)"
      ]
     },
     "execution_count": 23,
     "metadata": {},
     "output_type": "execute_result"
    }
   ],
   "source": [
    "# ppg dataframe\n",
    "array_of_numbers = ppg_one_dim\n",
    "len(array_of_numbers)\n",
    "\n",
    "length = 512 # data points in 8 seconds\n",
    "shift = 128 # 64 Hz * 2 shifts\n",
    "\n",
    "ppg_df = pd.DataFrame()\n",
    "\n",
    "for i in range(0, len(array_of_numbers), shift):\n",
    "    dat = array_of_numbers[i:i + length]\n",
    "    # chunks.append(dat)\n",
    "    ppg_df = pd.concat([ppg_df, pd.DataFrame([dat])], ignore_index=True)\n",
    "    \n",
    "ppg_df.shape"
   ]
  },
  {
   "cell_type": "code",
   "execution_count": 24,
   "id": "f76c0cb5-fad8-4106-a1b5-38645cbb0821",
   "metadata": {
    "tags": []
   },
   "outputs": [
    {
     "data": {
      "text/plain": [
       "(array([[-16.59],\n",
       "        [-18.88],\n",
       "        [-21.22],\n",
       "        [-23.67],\n",
       "        [-26.34],\n",
       "        [-29.39],\n",
       "        [-32.88],\n",
       "        [-36.74],\n",
       "        [-40.63]]),\n",
       "         0      1      2      3      4      5      6      7      8      9    \\\n",
       " 0    -16.59 -18.88 -21.22 -23.67 -26.34 -29.39 -32.88 -36.74 -40.63 -43.93   \n",
       " 1    -21.79 -27.48 -33.46 -40.12 -47.64 -56.21 -66.00 -76.91 -88.12 -97.94   \n",
       " 2     54.97  48.97  43.21  37.76  32.54  27.37  22.07  16.55  10.87   5.22   \n",
       " 3     26.58  24.97  23.46  21.78  19.62  16.76  13.17   8.92   4.12  -1.18   \n",
       " 4     51.04  50.90  48.51  44.80  40.43  35.56  29.96  23.29  15.39   6.34   \n",
       " ...     ...    ...    ...    ...    ...    ...    ...    ...    ...    ...   \n",
       " 3965  24.22  23.34  22.43  21.48  20.36  19.04  17.55  16.05  14.67  13.51   \n",
       " 3966 -35.83 -38.20 -39.20 -38.33 -35.31 -30.30 -23.76 -16.46  -9.23  -2.77   \n",
       " 3967   2.07   1.52   0.42  -0.96  -2.35  -3.55  -4.53  -5.45  -6.52  -7.91   \n",
       " 3968  15.63  14.74  13.91  12.97  11.83  10.51   9.09   7.69   6.43   5.29   \n",
       " 3969 -16.38  -6.12   4.35  14.16  22.63  29.37  34.09  36.71  37.27  35.99   \n",
       " \n",
       "       ...    502    503    504    505    506    507    508    509    510  \\\n",
       " 0     ...  31.85  31.35  28.78  25.59  23.71  24.70  29.01  35.66  42.74   \n",
       " 1     ... -21.09 -22.46 -22.80 -22.15 -20.69 -18.46 -15.33 -11.03  -5.47   \n",
       " 2     ...   4.31   5.19   6.44   8.17  10.34  12.76  15.15  17.18  18.64   \n",
       " 3     ... -31.43 -27.31 -23.04 -18.68 -14.41 -10.61  -7.58  -5.48  -4.17   \n",
       " 4     ...   5.36   3.40   1.44  -0.42  -2.15  -3.85  -5.67  -7.67  -9.84   \n",
       " ...   ...    ...    ...    ...    ...    ...    ...    ...    ...    ...   \n",
       " 3965  ... -14.99 -19.81 -24.87 -29.81 -34.10 -37.11 -38.16 -36.68 -32.39   \n",
       " 3966  ...    NaN    NaN    NaN    NaN    NaN    NaN    NaN    NaN    NaN   \n",
       " 3967  ...    NaN    NaN    NaN    NaN    NaN    NaN    NaN    NaN    NaN   \n",
       " 3968  ...    NaN    NaN    NaN    NaN    NaN    NaN    NaN    NaN    NaN   \n",
       " 3969  ...    NaN    NaN    NaN    NaN    NaN    NaN    NaN    NaN    NaN   \n",
       " \n",
       "         511  \n",
       " 0     48.27  \n",
       " 1      1.08  \n",
       " 2     19.64  \n",
       " 3     -3.35  \n",
       " 4    -12.02  \n",
       " ...     ...  \n",
       " 3965 -25.42  \n",
       " 3966    NaN  \n",
       " 3967    NaN  \n",
       " 3968    NaN  \n",
       " 3969    NaN  \n",
       " \n",
       " [3970 rows x 512 columns])"
      ]
     },
     "execution_count": 24,
     "metadata": {},
     "output_type": "execute_result"
    }
   ],
   "source": [
    "#checking\n",
    "ppg_raw_data[:9], ppg_df"
   ]
  },
  {
   "cell_type": "code",
   "execution_count": 25,
   "id": "b11d93ad-829e-4309-8c81-6dc13fc4e78e",
   "metadata": {
    "tags": []
   },
   "outputs": [
    {
     "data": {
      "text/plain": [
       "(3966, 1)"
      ]
     },
     "execution_count": 25,
     "metadata": {},
     "output_type": "execute_result"
    }
   ],
   "source": [
    "# label dataframe\n",
    "# converting to one dimension\n",
    "label_arr = label_raw_data.tolist()\n",
    "#creating the dataframe\n",
    "label_df = pd.DataFrame(label_arr)\n",
    "label_df.shape"
   ]
  },
  {
   "cell_type": "code",
   "execution_count": 26,
   "id": "68c02b02-3742-4daf-9f3f-10b1f1e29606",
   "metadata": {
    "tags": []
   },
   "outputs": [
    {
     "data": {
      "text/plain": [
       "(array([51.78977214, 53.95587357, 59.37907894, 67.08363977, 71.92379036,\n",
       "        73.97221883, 75.74545742, 77.26284956, 77.83966101]),\n",
       "               0\n",
       " 0     51.789772\n",
       " 1     53.955874\n",
       " 2     59.379079\n",
       " 3     67.083640\n",
       " 4     71.923790\n",
       " ...         ...\n",
       " 3961  75.475622\n",
       " 3962  77.524511\n",
       " 3963  78.714945\n",
       " 3964  80.413954\n",
       " 3965  80.853007\n",
       " \n",
       " [3966 rows x 1 columns])"
      ]
     },
     "execution_count": 26,
     "metadata": {},
     "output_type": "execute_result"
    }
   ],
   "source": [
    "#checking\n",
    "label_raw_data[:9], label_df"
   ]
  },
  {
   "cell_type": "code",
   "execution_count": 27,
   "id": "5b23ef57-22c5-4cb8-9137-ce65d068c4f2",
   "metadata": {
    "tags": []
   },
   "outputs": [
    {
     "data": {
      "text/html": [
       "<div>\n",
       "<style scoped>\n",
       "    .dataframe tbody tr th:only-of-type {\n",
       "        vertical-align: middle;\n",
       "    }\n",
       "\n",
       "    .dataframe tbody tr th {\n",
       "        vertical-align: top;\n",
       "    }\n",
       "\n",
       "    .dataframe thead th {\n",
       "        text-align: right;\n",
       "    }\n",
       "</style>\n",
       "<table border=\"1\" class=\"dataframe\">\n",
       "  <thead>\n",
       "    <tr style=\"text-align: right;\">\n",
       "      <th></th>\n",
       "      <th>0</th>\n",
       "      <th>1</th>\n",
       "      <th>2</th>\n",
       "      <th>3</th>\n",
       "      <th>4</th>\n",
       "      <th>5</th>\n",
       "      <th>6</th>\n",
       "      <th>7</th>\n",
       "      <th>8</th>\n",
       "      <th>9</th>\n",
       "      <th>...</th>\n",
       "      <th>1303</th>\n",
       "      <th>1304</th>\n",
       "      <th>1305</th>\n",
       "      <th>1306</th>\n",
       "      <th>1307</th>\n",
       "      <th>1308</th>\n",
       "      <th>1309</th>\n",
       "      <th>1310</th>\n",
       "      <th>1311</th>\n",
       "      <th>1312</th>\n",
       "    </tr>\n",
       "  </thead>\n",
       "  <tbody>\n",
       "    <tr>\n",
       "      <th>0</th>\n",
       "      <td>-16.59</td>\n",
       "      <td>-18.88</td>\n",
       "      <td>-21.22</td>\n",
       "      <td>-23.67</td>\n",
       "      <td>-26.34</td>\n",
       "      <td>-29.39</td>\n",
       "      <td>-32.88</td>\n",
       "      <td>-36.74</td>\n",
       "      <td>-40.63</td>\n",
       "      <td>-43.93</td>\n",
       "      <td>...</td>\n",
       "      <td>31.11</td>\n",
       "      <td>31.09</td>\n",
       "      <td>31.09</td>\n",
       "      <td>31.09</td>\n",
       "      <td>31.09</td>\n",
       "      <td>31.09</td>\n",
       "      <td>31.09</td>\n",
       "      <td>31.09</td>\n",
       "      <td>31.09</td>\n",
       "      <td>51.789772</td>\n",
       "    </tr>\n",
       "    <tr>\n",
       "      <th>1</th>\n",
       "      <td>-21.79</td>\n",
       "      <td>-27.48</td>\n",
       "      <td>-33.46</td>\n",
       "      <td>-40.12</td>\n",
       "      <td>-47.64</td>\n",
       "      <td>-56.21</td>\n",
       "      <td>-66.00</td>\n",
       "      <td>-76.91</td>\n",
       "      <td>-88.12</td>\n",
       "      <td>-97.94</td>\n",
       "      <td>...</td>\n",
       "      <td>31.09</td>\n",
       "      <td>31.11</td>\n",
       "      <td>31.11</td>\n",
       "      <td>31.11</td>\n",
       "      <td>31.11</td>\n",
       "      <td>31.11</td>\n",
       "      <td>31.11</td>\n",
       "      <td>31.11</td>\n",
       "      <td>31.11</td>\n",
       "      <td>53.955874</td>\n",
       "    </tr>\n",
       "    <tr>\n",
       "      <th>2</th>\n",
       "      <td>54.97</td>\n",
       "      <td>48.97</td>\n",
       "      <td>43.21</td>\n",
       "      <td>37.76</td>\n",
       "      <td>32.54</td>\n",
       "      <td>27.37</td>\n",
       "      <td>22.07</td>\n",
       "      <td>16.55</td>\n",
       "      <td>10.87</td>\n",
       "      <td>5.22</td>\n",
       "      <td>...</td>\n",
       "      <td>31.11</td>\n",
       "      <td>31.09</td>\n",
       "      <td>31.09</td>\n",
       "      <td>31.09</td>\n",
       "      <td>31.09</td>\n",
       "      <td>31.07</td>\n",
       "      <td>31.07</td>\n",
       "      <td>31.07</td>\n",
       "      <td>31.07</td>\n",
       "      <td>59.379079</td>\n",
       "    </tr>\n",
       "    <tr>\n",
       "      <th>3</th>\n",
       "      <td>26.58</td>\n",
       "      <td>24.97</td>\n",
       "      <td>23.46</td>\n",
       "      <td>21.78</td>\n",
       "      <td>19.62</td>\n",
       "      <td>16.76</td>\n",
       "      <td>13.17</td>\n",
       "      <td>8.92</td>\n",
       "      <td>4.12</td>\n",
       "      <td>-1.18</td>\n",
       "      <td>...</td>\n",
       "      <td>31.07</td>\n",
       "      <td>31.09</td>\n",
       "      <td>31.09</td>\n",
       "      <td>31.09</td>\n",
       "      <td>31.09</td>\n",
       "      <td>31.11</td>\n",
       "      <td>31.11</td>\n",
       "      <td>31.11</td>\n",
       "      <td>31.11</td>\n",
       "      <td>67.083640</td>\n",
       "    </tr>\n",
       "    <tr>\n",
       "      <th>4</th>\n",
       "      <td>51.04</td>\n",
       "      <td>50.90</td>\n",
       "      <td>48.51</td>\n",
       "      <td>44.80</td>\n",
       "      <td>40.43</td>\n",
       "      <td>35.56</td>\n",
       "      <td>29.96</td>\n",
       "      <td>23.29</td>\n",
       "      <td>15.39</td>\n",
       "      <td>6.34</td>\n",
       "      <td>...</td>\n",
       "      <td>31.11</td>\n",
       "      <td>31.11</td>\n",
       "      <td>31.11</td>\n",
       "      <td>31.11</td>\n",
       "      <td>31.11</td>\n",
       "      <td>31.13</td>\n",
       "      <td>31.13</td>\n",
       "      <td>31.13</td>\n",
       "      <td>31.13</td>\n",
       "      <td>71.923790</td>\n",
       "    </tr>\n",
       "    <tr>\n",
       "      <th>...</th>\n",
       "      <td>...</td>\n",
       "      <td>...</td>\n",
       "      <td>...</td>\n",
       "      <td>...</td>\n",
       "      <td>...</td>\n",
       "      <td>...</td>\n",
       "      <td>...</td>\n",
       "      <td>...</td>\n",
       "      <td>...</td>\n",
       "      <td>...</td>\n",
       "      <td>...</td>\n",
       "      <td>...</td>\n",
       "      <td>...</td>\n",
       "      <td>...</td>\n",
       "      <td>...</td>\n",
       "      <td>...</td>\n",
       "      <td>...</td>\n",
       "      <td>...</td>\n",
       "      <td>...</td>\n",
       "      <td>...</td>\n",
       "      <td>...</td>\n",
       "    </tr>\n",
       "    <tr>\n",
       "      <th>3965</th>\n",
       "      <td>24.22</td>\n",
       "      <td>23.34</td>\n",
       "      <td>22.43</td>\n",
       "      <td>21.48</td>\n",
       "      <td>20.36</td>\n",
       "      <td>19.04</td>\n",
       "      <td>17.55</td>\n",
       "      <td>16.05</td>\n",
       "      <td>14.67</td>\n",
       "      <td>13.51</td>\n",
       "      <td>...</td>\n",
       "      <td>34.00</td>\n",
       "      <td>33.99</td>\n",
       "      <td>33.99</td>\n",
       "      <td>33.99</td>\n",
       "      <td>33.99</td>\n",
       "      <td>33.99</td>\n",
       "      <td>33.99</td>\n",
       "      <td>33.99</td>\n",
       "      <td>33.99</td>\n",
       "      <td>80.853007</td>\n",
       "    </tr>\n",
       "    <tr>\n",
       "      <th>3966</th>\n",
       "      <td>-35.83</td>\n",
       "      <td>-38.20</td>\n",
       "      <td>-39.20</td>\n",
       "      <td>-38.33</td>\n",
       "      <td>-35.31</td>\n",
       "      <td>-30.30</td>\n",
       "      <td>-23.76</td>\n",
       "      <td>-16.46</td>\n",
       "      <td>-9.23</td>\n",
       "      <td>-2.77</td>\n",
       "      <td>...</td>\n",
       "      <td>33.99</td>\n",
       "      <td>33.99</td>\n",
       "      <td>33.99</td>\n",
       "      <td>33.99</td>\n",
       "      <td>33.99</td>\n",
       "      <td>NaN</td>\n",
       "      <td>NaN</td>\n",
       "      <td>NaN</td>\n",
       "      <td>NaN</td>\n",
       "      <td>NaN</td>\n",
       "    </tr>\n",
       "    <tr>\n",
       "      <th>3967</th>\n",
       "      <td>2.07</td>\n",
       "      <td>1.52</td>\n",
       "      <td>0.42</td>\n",
       "      <td>-0.96</td>\n",
       "      <td>-2.35</td>\n",
       "      <td>-3.55</td>\n",
       "      <td>-4.53</td>\n",
       "      <td>-5.45</td>\n",
       "      <td>-6.52</td>\n",
       "      <td>-7.91</td>\n",
       "      <td>...</td>\n",
       "      <td>NaN</td>\n",
       "      <td>NaN</td>\n",
       "      <td>NaN</td>\n",
       "      <td>NaN</td>\n",
       "      <td>NaN</td>\n",
       "      <td>NaN</td>\n",
       "      <td>NaN</td>\n",
       "      <td>NaN</td>\n",
       "      <td>NaN</td>\n",
       "      <td>NaN</td>\n",
       "    </tr>\n",
       "    <tr>\n",
       "      <th>3968</th>\n",
       "      <td>15.63</td>\n",
       "      <td>14.74</td>\n",
       "      <td>13.91</td>\n",
       "      <td>12.97</td>\n",
       "      <td>11.83</td>\n",
       "      <td>10.51</td>\n",
       "      <td>9.09</td>\n",
       "      <td>7.69</td>\n",
       "      <td>6.43</td>\n",
       "      <td>5.29</td>\n",
       "      <td>...</td>\n",
       "      <td>NaN</td>\n",
       "      <td>NaN</td>\n",
       "      <td>NaN</td>\n",
       "      <td>NaN</td>\n",
       "      <td>NaN</td>\n",
       "      <td>NaN</td>\n",
       "      <td>NaN</td>\n",
       "      <td>NaN</td>\n",
       "      <td>NaN</td>\n",
       "      <td>NaN</td>\n",
       "    </tr>\n",
       "    <tr>\n",
       "      <th>3969</th>\n",
       "      <td>-16.38</td>\n",
       "      <td>-6.12</td>\n",
       "      <td>4.35</td>\n",
       "      <td>14.16</td>\n",
       "      <td>22.63</td>\n",
       "      <td>29.37</td>\n",
       "      <td>34.09</td>\n",
       "      <td>36.71</td>\n",
       "      <td>37.27</td>\n",
       "      <td>35.99</td>\n",
       "      <td>...</td>\n",
       "      <td>NaN</td>\n",
       "      <td>NaN</td>\n",
       "      <td>NaN</td>\n",
       "      <td>NaN</td>\n",
       "      <td>NaN</td>\n",
       "      <td>NaN</td>\n",
       "      <td>NaN</td>\n",
       "      <td>NaN</td>\n",
       "      <td>NaN</td>\n",
       "      <td>NaN</td>\n",
       "    </tr>\n",
       "  </tbody>\n",
       "</table>\n",
       "<p>3970 rows × 1313 columns</p>\n",
       "</div>"
      ],
      "text/plain": [
       "       0      1      2      3      4      5      6      7      8      9     \\\n",
       "0    -16.59 -18.88 -21.22 -23.67 -26.34 -29.39 -32.88 -36.74 -40.63 -43.93   \n",
       "1    -21.79 -27.48 -33.46 -40.12 -47.64 -56.21 -66.00 -76.91 -88.12 -97.94   \n",
       "2     54.97  48.97  43.21  37.76  32.54  27.37  22.07  16.55  10.87   5.22   \n",
       "3     26.58  24.97  23.46  21.78  19.62  16.76  13.17   8.92   4.12  -1.18   \n",
       "4     51.04  50.90  48.51  44.80  40.43  35.56  29.96  23.29  15.39   6.34   \n",
       "...     ...    ...    ...    ...    ...    ...    ...    ...    ...    ...   \n",
       "3965  24.22  23.34  22.43  21.48  20.36  19.04  17.55  16.05  14.67  13.51   \n",
       "3966 -35.83 -38.20 -39.20 -38.33 -35.31 -30.30 -23.76 -16.46  -9.23  -2.77   \n",
       "3967   2.07   1.52   0.42  -0.96  -2.35  -3.55  -4.53  -5.45  -6.52  -7.91   \n",
       "3968  15.63  14.74  13.91  12.97  11.83  10.51   9.09   7.69   6.43   5.29   \n",
       "3969 -16.38  -6.12   4.35  14.16  22.63  29.37  34.09  36.71  37.27  35.99   \n",
       "\n",
       "      ...   1303   1304   1305   1306   1307   1308   1309   1310   1311  \\\n",
       "0     ...  31.11  31.09  31.09  31.09  31.09  31.09  31.09  31.09  31.09   \n",
       "1     ...  31.09  31.11  31.11  31.11  31.11  31.11  31.11  31.11  31.11   \n",
       "2     ...  31.11  31.09  31.09  31.09  31.09  31.07  31.07  31.07  31.07   \n",
       "3     ...  31.07  31.09  31.09  31.09  31.09  31.11  31.11  31.11  31.11   \n",
       "4     ...  31.11  31.11  31.11  31.11  31.11  31.13  31.13  31.13  31.13   \n",
       "...   ...    ...    ...    ...    ...    ...    ...    ...    ...    ...   \n",
       "3965  ...  34.00  33.99  33.99  33.99  33.99  33.99  33.99  33.99  33.99   \n",
       "3966  ...  33.99  33.99  33.99  33.99  33.99    NaN    NaN    NaN    NaN   \n",
       "3967  ...    NaN    NaN    NaN    NaN    NaN    NaN    NaN    NaN    NaN   \n",
       "3968  ...    NaN    NaN    NaN    NaN    NaN    NaN    NaN    NaN    NaN   \n",
       "3969  ...    NaN    NaN    NaN    NaN    NaN    NaN    NaN    NaN    NaN   \n",
       "\n",
       "           1312  \n",
       "0     51.789772  \n",
       "1     53.955874  \n",
       "2     59.379079  \n",
       "3     67.083640  \n",
       "4     71.923790  \n",
       "...         ...  \n",
       "3965  80.853007  \n",
       "3966        NaN  \n",
       "3967        NaN  \n",
       "3968        NaN  \n",
       "3969        NaN  \n",
       "\n",
       "[3970 rows x 1313 columns]"
      ]
     },
     "execution_count": 27,
     "metadata": {},
     "output_type": "execute_result"
    }
   ],
   "source": [
    "frames = [ppg_df, acc_df, temp_df, label_df]\n",
    "\n",
    "result_df = pd.concat(frames, axis=1, ignore_index=True)\n",
    "result_df"
   ]
  },
  {
   "cell_type": "code",
   "execution_count": 583,
   "id": "526d779a-ecb5-4738-868f-52f1ebe512d7",
   "metadata": {
    "tags": []
   },
   "outputs": [],
   "source": [
    "result_df.to_csv('../ppg_heart_rate_estimation/Subjects/S15/S15.csv', index=False)"
   ]
  },
  {
   "cell_type": "code",
   "execution_count": null,
   "id": "38f9306d-6aa6-4e10-aa84-f48bf0ac2987",
   "metadata": {},
   "outputs": [],
   "source": []
  },
  {
   "cell_type": "code",
   "execution_count": null,
   "id": "b52af011-1938-43d3-9df3-50303d2bd0c1",
   "metadata": {},
   "outputs": [],
   "source": []
  },
  {
   "cell_type": "code",
   "execution_count": null,
   "id": "bf130d7d-9e18-4bcc-992a-a16f139bbad7",
   "metadata": {},
   "outputs": [],
   "source": []
  }
 ],
 "metadata": {
  "kernelspec": {
   "display_name": "Python 3 (ipykernel)",
   "language": "python",
   "name": "python3"
  },
  "language_info": {
   "codemirror_mode": {
    "name": "ipython",
    "version": 3
   },
   "file_extension": ".py",
   "mimetype": "text/x-python",
   "name": "python",
   "nbconvert_exporter": "python",
   "pygments_lexer": "ipython3",
   "version": "3.11.5"
  }
 },
 "nbformat": 4,
 "nbformat_minor": 5
}
